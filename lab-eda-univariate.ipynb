{
 "cells": [
  {
   "cell_type": "code",
   "execution_count": 2,
   "metadata": {},
   "outputs": [],
   "source": [
    "import pandas as pd\n",
    "import numpy as np"
   ]
  },
  {
   "cell_type": "code",
   "execution_count": 5,
   "metadata": {},
   "outputs": [
    {
     "data": {
      "text/html": [
       "<div>\n",
       "<style scoped>\n",
       "    .dataframe tbody tr th:only-of-type {\n",
       "        vertical-align: middle;\n",
       "    }\n",
       "\n",
       "    .dataframe tbody tr th {\n",
       "        vertical-align: top;\n",
       "    }\n",
       "\n",
       "    .dataframe thead th {\n",
       "        text-align: right;\n",
       "    }\n",
       "</style>\n",
       "<table border=\"1\" class=\"dataframe\">\n",
       "  <thead>\n",
       "    <tr style=\"text-align: right;\">\n",
       "      <th></th>\n",
       "      <th>uid</th>\n",
       "      <th>asin</th>\n",
       "      <th>title</th>\n",
       "      <th>stars</th>\n",
       "      <th>reviews</th>\n",
       "      <th>price</th>\n",
       "      <th>isBestSeller</th>\n",
       "      <th>boughtInLastMonth</th>\n",
       "      <th>category</th>\n",
       "    </tr>\n",
       "  </thead>\n",
       "  <tbody>\n",
       "    <tr>\n",
       "      <th>0</th>\n",
       "      <td>1</td>\n",
       "      <td>B09B96TG33</td>\n",
       "      <td>Echo Dot (5th generation, 2022 release) | Big ...</td>\n",
       "      <td>4.7</td>\n",
       "      <td>15308</td>\n",
       "      <td>21.99</td>\n",
       "      <td>False</td>\n",
       "      <td>0</td>\n",
       "      <td>Hi-Fi Speakers</td>\n",
       "    </tr>\n",
       "    <tr>\n",
       "      <th>1</th>\n",
       "      <td>2</td>\n",
       "      <td>B01HTH3C8S</td>\n",
       "      <td>Anker Soundcore mini, Super-Portable Bluetooth...</td>\n",
       "      <td>4.7</td>\n",
       "      <td>98099</td>\n",
       "      <td>23.99</td>\n",
       "      <td>True</td>\n",
       "      <td>0</td>\n",
       "      <td>Hi-Fi Speakers</td>\n",
       "    </tr>\n",
       "    <tr>\n",
       "      <th>2</th>\n",
       "      <td>3</td>\n",
       "      <td>B09B8YWXDF</td>\n",
       "      <td>Echo Dot (5th generation, 2022 release) | Big ...</td>\n",
       "      <td>4.7</td>\n",
       "      <td>15308</td>\n",
       "      <td>21.99</td>\n",
       "      <td>False</td>\n",
       "      <td>0</td>\n",
       "      <td>Hi-Fi Speakers</td>\n",
       "    </tr>\n",
       "    <tr>\n",
       "      <th>3</th>\n",
       "      <td>4</td>\n",
       "      <td>B09B8T5VGV</td>\n",
       "      <td>Echo Dot with clock (5th generation, 2022 rele...</td>\n",
       "      <td>4.7</td>\n",
       "      <td>7205</td>\n",
       "      <td>31.99</td>\n",
       "      <td>False</td>\n",
       "      <td>0</td>\n",
       "      <td>Hi-Fi Speakers</td>\n",
       "    </tr>\n",
       "    <tr>\n",
       "      <th>4</th>\n",
       "      <td>5</td>\n",
       "      <td>B09WX6QD65</td>\n",
       "      <td>Introducing Echo Pop | Full sound compact Wi-F...</td>\n",
       "      <td>4.6</td>\n",
       "      <td>1881</td>\n",
       "      <td>17.99</td>\n",
       "      <td>False</td>\n",
       "      <td>0</td>\n",
       "      <td>Hi-Fi Speakers</td>\n",
       "    </tr>\n",
       "  </tbody>\n",
       "</table>\n",
       "</div>"
      ],
      "text/plain": [
       "   uid        asin                                              title  stars  \\\n",
       "0    1  B09B96TG33  Echo Dot (5th generation, 2022 release) | Big ...    4.7   \n",
       "1    2  B01HTH3C8S  Anker Soundcore mini, Super-Portable Bluetooth...    4.7   \n",
       "2    3  B09B8YWXDF  Echo Dot (5th generation, 2022 release) | Big ...    4.7   \n",
       "3    4  B09B8T5VGV  Echo Dot with clock (5th generation, 2022 rele...    4.7   \n",
       "4    5  B09WX6QD65  Introducing Echo Pop | Full sound compact Wi-F...    4.6   \n",
       "\n",
       "   reviews  price  isBestSeller  boughtInLastMonth        category  \n",
       "0    15308  21.99         False                  0  Hi-Fi Speakers  \n",
       "1    98099  23.99          True                  0  Hi-Fi Speakers  \n",
       "2    15308  21.99         False                  0  Hi-Fi Speakers  \n",
       "3     7205  31.99         False                  0  Hi-Fi Speakers  \n",
       "4     1881  17.99         False                  0  Hi-Fi Speakers  "
      ]
     },
     "execution_count": 5,
     "metadata": {},
     "output_type": "execute_result"
    }
   ],
   "source": [
    "df = pd.read_csv(r\"C:\\Users\\Lara\\Documents\\Ironhack\\Course\\Labs\\statistics\\lab-eda-univariate\\amazon.csv\")\n",
    "df.head()"
   ]
  },
  {
   "cell_type": "code",
   "execution_count": 22,
   "metadata": {},
   "outputs": [
    {
     "name": "stdout",
     "output_type": "stream",
     "text": [
      "Index(['uid', 'asin', 'title', 'stars', 'reviews', 'price', 'isBestSeller',\n",
      "       'boughtInLastMonth', 'category'],\n",
      "      dtype='object')\n"
     ]
    }
   ],
   "source": [
    "column_names = df.columns\n",
    "print(column_names)"
   ]
  },
  {
   "cell_type": "code",
   "execution_count": 10,
   "metadata": {},
   "outputs": [
    {
     "data": {
      "text/html": [
       "<div>\n",
       "<style scoped>\n",
       "    .dataframe tbody tr th:only-of-type {\n",
       "        vertical-align: middle;\n",
       "    }\n",
       "\n",
       "    .dataframe tbody tr th {\n",
       "        vertical-align: top;\n",
       "    }\n",
       "\n",
       "    .dataframe thead th {\n",
       "        text-align: right;\n",
       "    }\n",
       "</style>\n",
       "<table border=\"1\" class=\"dataframe\">\n",
       "  <thead>\n",
       "    <tr style=\"text-align: right;\">\n",
       "      <th>col_0</th>\n",
       "      <th>count</th>\n",
       "    </tr>\n",
       "    <tr>\n",
       "      <th>category</th>\n",
       "      <th></th>\n",
       "    </tr>\n",
       "  </thead>\n",
       "  <tbody>\n",
       "    <tr>\n",
       "      <th>3D Printers</th>\n",
       "      <td>248</td>\n",
       "    </tr>\n",
       "    <tr>\n",
       "      <th>3D Printing &amp; Scanning</th>\n",
       "      <td>4067</td>\n",
       "    </tr>\n",
       "    <tr>\n",
       "      <th>Abrasive &amp; Finishing Products</th>\n",
       "      <td>250</td>\n",
       "    </tr>\n",
       "    <tr>\n",
       "      <th>Action Cameras</th>\n",
       "      <td>1697</td>\n",
       "    </tr>\n",
       "    <tr>\n",
       "      <th>Adapters</th>\n",
       "      <td>254</td>\n",
       "    </tr>\n",
       "    <tr>\n",
       "      <th>...</th>\n",
       "      <td>...</td>\n",
       "    </tr>\n",
       "    <tr>\n",
       "      <th>Wind Instruments</th>\n",
       "      <td>250</td>\n",
       "    </tr>\n",
       "    <tr>\n",
       "      <th>Window Treatments</th>\n",
       "      <td>239</td>\n",
       "    </tr>\n",
       "    <tr>\n",
       "      <th>Women</th>\n",
       "      <td>17772</td>\n",
       "    </tr>\n",
       "    <tr>\n",
       "      <th>Women's Sports &amp; Outdoor Shoes</th>\n",
       "      <td>1959</td>\n",
       "    </tr>\n",
       "    <tr>\n",
       "      <th>eBook Readers &amp; Accessories</th>\n",
       "      <td>246</td>\n",
       "    </tr>\n",
       "  </tbody>\n",
       "</table>\n",
       "<p>296 rows × 1 columns</p>\n",
       "</div>"
      ],
      "text/plain": [
       "col_0                           count\n",
       "category                             \n",
       "3D Printers                       248\n",
       "3D Printing & Scanning           4067\n",
       "Abrasive & Finishing Products     250\n",
       "Action Cameras                   1697\n",
       "Adapters                          254\n",
       "...                               ...\n",
       "Wind Instruments                  250\n",
       "Window Treatments                 239\n",
       "Women                           17772\n",
       "Women's Sports & Outdoor Shoes   1959\n",
       "eBook Readers & Accessories       246\n",
       "\n",
       "[296 rows x 1 columns]"
      ]
     },
     "execution_count": 10,
     "metadata": {},
     "output_type": "execute_result"
    }
   ],
   "source": [
    "#1.\n",
    "#Frequency Tables:\n",
    "#Generate a frequency table for the product category.\n",
    "my_table = pd.crosstab(index = df[\"category\"], columns=\"count\") \n",
    "my_table\n"
   ]
  },
  {
   "cell_type": "code",
   "execution_count": 12,
   "metadata": {},
   "outputs": [
    {
     "data": {
      "text/plain": [
       "category\n",
       "Sports & Outdoors                         836265\n",
       "Beauty                                     19312\n",
       "Handmade Clothing, Shoes & Accessories     19229\n",
       "Bath & Body                                19092\n",
       "Birthday Gifts                             18978\n",
       "                                           ...  \n",
       "Alexa Built-In Devices                       107\n",
       "Motorbike Chassis                            107\n",
       "Plugs                                        107\n",
       "Smart Home Security & Lighting               104\n",
       "Smart Speakers                                54\n",
       "Name: count, Length: 296, dtype: int64"
      ]
     },
     "execution_count": 12,
     "metadata": {},
     "output_type": "execute_result"
    }
   ],
   "source": [
    "frequency_table = df['category'].value_counts()\n",
    "frequency_table"
   ]
  },
  {
   "cell_type": "code",
   "execution_count": 17,
   "metadata": {},
   "outputs": [
    {
     "data": {
      "text/plain": [
       "0    Hi-Fi Speakers\n",
       "1    Hi-Fi Speakers\n",
       "2    Hi-Fi Speakers\n",
       "3    Hi-Fi Speakers\n",
       "4    Hi-Fi Speakers\n",
       "Name: category, dtype: object"
      ]
     },
     "execution_count": 17,
     "metadata": {},
     "output_type": "execute_result"
    }
   ],
   "source": [
    "#Which are the top 5 most listed product categories?\n",
    "five_most_listed = df['category'].value_counts()\n",
    "\n",
    "# top 5 most listed product categories\n",
    "top_five_listed = df['category'].head(5)\n",
    "top_five_listed"
   ]
  },
  {
   "cell_type": "code",
   "execution_count": 18,
   "metadata": {},
   "outputs": [],
   "source": [
    "#Visualizations:\n",
    "import matplotlib.pyplot as plt\n",
    "import seaborn as sns"
   ]
  },
  {
   "cell_type": "code",
   "execution_count": 19,
   "metadata": {},
   "outputs": [
    {
     "name": "stderr",
     "output_type": "stream",
     "text": [
      "C:\\Users\\Lara\\AppData\\Local\\Temp\\ipykernel_11572\\1014772540.py:3: FutureWarning: \n",
      "\n",
      "Passing `palette` without assigning `hue` is deprecated and will be removed in v0.14.0. Assign the `x` variable to `hue` and set `legend=False` for the same effect.\n",
      "\n",
      "  sns.barplot(x= my_table.index, y= my_table['count'], palette='Set3')\n"
     ]
    },
    {
     "data": {
      "image/png": "[encoded data removed]",
      "text/plain": [
       "<Figure size 640x480 with 1 Axes>"
      ]
     },
     "metadata": {},
     "output_type": "display_data"
    }
   ],
   "source": [
    "#Display the distribution of products across different categories using a bar chart. \n",
    "#If you face problems understanding the chart, do it for a subset of top categories.\n",
    "sns.barplot(x= my_table.index, y= my_table['count'], palette='Set3')\n",
    "plt.show()"
   ]
  },
  {
   "cell_type": "code",
   "execution_count": 21,
   "metadata": {},
   "outputs": [
    {
     "data": {
      "text/plain": [
       "<Axes: ylabel='count'>"
      ]
     },
     "execution_count": 21,
     "metadata": {},
     "output_type": "execute_result"
    },
    {
     "data": {
      "image/png": "[encoded data removed]",
      "text/plain": [
       "<Figure size 640x480 with 1 Axes>"
      ]
     },
     "metadata": {},
     "output_type": "display_data"
    }
   ],
   "source": [
    "#For a subset of top categories, visualize their proportions using a pie chart. Does any category dominate the listings?\n",
    "frequency_table.head(5).plot.pie()"
   ]
  },
  {
   "cell_type": "code",
   "execution_count": 27,
   "metadata": {},
   "outputs": [
    {
     "name": "stdout",
     "output_type": "stream",
     "text": [
      "89.24\n",
      "19.09\n",
      "9.99\n"
     ]
    }
   ],
   "source": [
    "#Part 2: Delving into Product Pricing\n",
    "\n",
    "#Measures of Centrality:\n",
    "#Calculate the mean, median, and mode for the price of products.\n",
    "mean_price = round(df['price'].mean(), 2)\n",
    "median_price = df['price'].median()\n",
    "mode_price = df['price'].mode()[0]\n",
    "\n",
    "print(mean_price)\n",
    "print(median_price)\n",
    "print(mode_price)\n",
    "\n",
    "\n",
    "#What's the average price point of products listed? How does this compare with the most common price point (mode)?\n",
    "#The average of the price is 89.24. The mode is 9.99. the mean provides an insight into the central tendency data. The mode represents the most common value."
   ]
  },
  {
   "cell_type": "code",
   "execution_count": 51,
   "metadata": {},
   "outputs": [
    {
     "name": "stdout",
     "output_type": "stream",
     "text": [
      "the variance of the product price is:119445.48532256528\n",
      "the standard deviation of the product price is:345.60886175352226\n",
      "the minimum of the product price is:0.0\n",
      "the maximum of the product price is:100000.0\n",
      "the range of product price is:100000.0\n",
      "the interquartile rande for the product price is: \n",
      "0.25     9.99\n",
      "0.50    19.09\n",
      "0.75    45.99\n",
      "Name: price, dtype: float64\n"
     ]
    }
   ],
   "source": [
    "#Measures of Dispersion:\n",
    "#Determine the variance, standard deviation, range, and interquartile range for product price.\n",
    "\n",
    "variance_price = df['price'].var()\n",
    "std_dev_price = df['price'].std()\n",
    "min_price = df['price'].min()\n",
    "max_price = df['price'].max()\n",
    "range_price = max_price - min_price\n",
    "quantiles_price = df['price'].quantile([0.25, 0.5, 0.75])\n",
    "\n",
    "print(f\"the variance of the product price is:{variance_price}\")\n",
    "print(f\"the standard deviation of the product price is:{std_dev_price}\")\n",
    "print(f\"the minimum of the product price is:{min_price}\")\n",
    "print(f\"the maximum of the product price is:{max_price}\")\n",
    "print(f\"the range of product price is:{range_price}\")\n",
    "print(f\"the interquartile rande for the product price is: \\n{quantiles_price}\")\n",
    "\n",
    "#How varied are the product prices? \n",
    "#the products prices vary between 0 and 10000. \n",
    "\n",
    "#Are there any indicators of a significant spread in prices?\n",
    "#Yes, we can verify that we have a standard deviation of aproximately 345.61 and variance of aproximately 119445.5"
   ]
  },
  {
   "cell_type": "code",
   "execution_count": 45,
   "metadata": {},
   "outputs": [
    {
     "data": {
      "text/plain": [
       "<Axes: xlabel='price', ylabel='Count'>"
      ]
     },
     "execution_count": 45,
     "metadata": {},
     "output_type": "execute_result"
    },
    {
     "data": {
      "image/png": "[encoded data removed]",
      "text/plain": [
       "<Figure size 640x480 with 1 Axes>"
      ]
     },
     "metadata": {},
     "output_type": "display_data"
    }
   ],
   "source": [
    "#Visualizations:\n",
    "#Is there a specific price range where most products fall? \n",
    "#Plot a histogram to visualize the distribution of product prices. \n",
    "#If its hard to read these diagrams, think why this is, and explain how it could be solved..\n",
    "\n",
    "sns.histplot(df['price'], kde=True, bins=30, color=\"salmon\")\n"
   ]
  },
  {
   "cell_type": "code",
   "execution_count": 46,
   "metadata": {},
   "outputs": [
    {
     "data": {
      "text/plain": [
       "<Axes: ylabel='price'>"
      ]
     },
     "execution_count": 46,
     "metadata": {},
     "output_type": "execute_result"
    },
    {
     "data": {
      "image/png": "[encoded data removed]",
      "text/plain": [
       "<Figure size 640x480 with 1 Axes>"
      ]
     },
     "metadata": {},
     "output_type": "display_data"
    }
   ],
   "source": [
    "#Are there products that are priced significantly higher than the rest? \n",
    "#Use a box plot to showcase the spread and potential outliers in product pricing.\n",
    "sns.boxplot(data = df['price'], color=\"lightblue\")"
   ]
  },
  {
   "cell_type": "code",
   "execution_count": 48,
   "metadata": {},
   "outputs": [
    {
     "name": "stdout",
     "output_type": "stream",
     "text": [
      "2.15\n",
      "0.0\n",
      "0.0\n"
     ]
    }
   ],
   "source": [
    "#Part 3: Unpacking Product Ratings\n",
    "#Measures of Centrality:\n",
    "#Calculate the mean, median, and mode for the rating of products.\n",
    "\n",
    "mean_stars = round(df['stars'].mean(), 2)\n",
    "median_stars = df['stars'].median()\n",
    "mode_stars = df['stars'].mode()[0]\n",
    "\n",
    "print(mean_stars)\n",
    "print(median_stars)\n",
    "print(mode_stars)\n",
    "\n",
    "#How do customers generally rate products? Is there a common trend?\n",
    "#Generally customers rate products with 2.5. There is not a common trend. "
   ]
  },
  {
   "cell_type": "code",
   "execution_count": 53,
   "metadata": {},
   "outputs": [
    {
     "name": "stdout",
     "output_type": "stream",
     "text": [
      "the variance of the rating is:4.81743402976196\n",
      "the standard deviation of the rating is:2.1948653785054697\n",
      "the minimum of the product rating is:0.0\n",
      "the maximum of the product rating is:5.0\n",
      "the range of the rating is:5.0\n",
      "the interquartile range for the rating is: \n",
      "0.25    0.0\n",
      "0.50    0.0\n",
      "0.75    4.4\n",
      "Name: stars, dtype: float64\n"
     ]
    }
   ],
   "source": [
    "#Measures of Dispersion:\n",
    "#Determine the variance, standard deviation, and interquartile range for product rating.\n",
    "variance_stars = df['stars'].var()\n",
    "std_dev_stars = df['stars'].std()\n",
    "min_stars = df['stars'].min()\n",
    "max_stars = df['stars'].max()\n",
    "range_stars = max_stars - min_stars\n",
    "quantiles_stars = df['stars'].quantile([0.25, 0.5, 0.75])\n",
    "\n",
    "print(f\"the variance of the rating is:{variance_stars}\")\n",
    "print(f\"the standard deviation of the rating is:{std_dev_stars}\")\n",
    "print(f\"the minimum of the product rating is:{min_stars}\")\n",
    "print(f\"the maximum of the product rating is:{max_stars}\")\n",
    "print(f\"the range of the rating is:{range_stars}\")\n",
    "print(f\"the interquartile range for the rating is: \\n{quantiles_stars}\")\n",
    "\n",
    "#Are the ratings consistent, or is there a wide variation in customer feedback?\n",
    "#There is a variance of aproximately 4.82 and a standard deviation of aproximately 2.19"
   ]
  },
  {
   "cell_type": "code",
   "execution_count": 54,
   "metadata": {},
   "outputs": [
    {
     "name": "stdout",
     "output_type": "stream",
     "text": [
      "The skewness stars is:0.08120735761080985\n",
      "The kurtosis stars is: -1.9260061280432985\n"
     ]
    }
   ],
   "source": [
    "#Shape of the Distribution:\n",
    "#Calculate the skewness and kurtosis for the rating column.\n",
    "\n",
    "skewness_stars = df['stars'].skew()\n",
    "kurtosis_stars = df['stars'].kurtosis()\n",
    "\n",
    "print(f\"The skewness stars is:{skewness_stars}\")\n",
    "print(f\"The kurtosis stars is: {kurtosis_stars}\")\n",
    "#Are the ratings normally distributed, or do they lean towards higher or lower values?\n",
    "#The data has a slight positive skewness (aproximately 0.0812), indicating a mild right skew, and a negative kurtosis (aproximately -1.9260), suggesting a platykurtic distribution with lighter tails than the normal distribution"
   ]
  },
  {
   "cell_type": "code",
   "execution_count": 55,
   "metadata": {},
   "outputs": [
    {
     "data": {
      "text/plain": [
       "<Axes: xlabel='stars', ylabel='Count'>"
      ]
     },
     "execution_count": 55,
     "metadata": {},
     "output_type": "execute_result"
    },
    {
     "data": {
      "image/png": "[encoded data removed]",
      "text/plain": [
       "<Figure size 640x480 with 1 Axes>"
      ]
     },
     "metadata": {},
     "output_type": "display_data"
    }
   ],
   "source": [
    "#Visualizations:\n",
    "#Plot a histogram to visualize the distribution of product ratings. \n",
    "sns.histplot(df['stars'], kde=True, bins=30, color=\"salmon\")\n",
    "\n",
    "#Is there a specific rating that is more common?\n",
    "#Yes, the more common stars are 0."
   ]
  },
  {
   "cell_type": "code",
   "execution_count": null,
   "metadata": {},
   "outputs": [],
   "source": []
  }
 ],
 "metadata": {
  "kernelspec": {
   "display_name": "base",
   "language": "python",
   "name": "python3"
  },
  "language_info": {
   "codemirror_mode": {
    "name": "ipython",
    "version": 3
   },
   "file_extension": ".py",
   "mimetype": "text/x-python",
   "name": "python",
   "nbconvert_exporter": "python",
   "pygments_lexer": "ipython3",
   "version": "3.11.7"
  }
 },
 "nbformat": 4,
 "nbformat_minor": 2
}
